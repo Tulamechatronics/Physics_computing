{
 "cells": [
  {
   "cell_type": "code",
   "execution_count": 9,
   "metadata": {},
   "outputs": [
    {
     "name": "stdout",
     "output_type": "stream",
     "text": [
      "233168\n"
     ]
    }
   ],
   "source": [
    "#Problem 1:\n",
    "#Find the sum of all the multiples of 3 or 5 below 1000.\n",
    "\n",
    "\n",
    "def compute():\n",
    "\tans = sum(x for x in range(1000) if (x % 3 == 0 or x % 5 == 0))\n",
    "\treturn str(ans)\n",
    "\n",
    "\n",
    "if __name__ == \"__main__\":\n",
    "\tprint(compute())\n",
    "    \n"
   ]
  },
  {
   "cell_type": "code",
   "execution_count": 10,
   "metadata": {},
   "outputs": [
    {
     "name": "stdout",
     "output_type": "stream",
     "text": [
      "23\n"
     ]
    }
   ],
   "source": [
    "def compute():\n",
    "    ans = sum(x for x in range(10) if (x % 3 == 0 or x % 5 ==0 ))\n",
    "    return str(ans)\n",
    "if __name__==\"__main__\":\n",
    "    print(compute())"
   ]
  },
  {
   "cell_type": "code",
   "execution_count": 11,
   "metadata": {},
   "outputs": [
    {
     "name": "stdout",
     "output_type": "stream",
     "text": [
      "4613732\n"
     ]
    }
   ],
   "source": [
    "# problem 2:\n",
    "# find the sum of the even-valued terms.\n",
    "def compute():\n",
    "\tans = 0\n",
    "\tx = 1  # Represents the current Fibonacci number being processed\n",
    "\ty = 2  # Represents the next Fibonacci number in the sequence\n",
    "\twhile x <= 4000000:\n",
    "\t\tif x % 2 == 0:\n",
    "\t\t\tans += x\n",
    "\t\tx, y = y, x + y\n",
    "\treturn str(ans)\n",
    "\n",
    "\n",
    "if __name__ == \"__main__\":\n",
    "\tprint(compute())\n"
   ]
  },
  {
   "cell_type": "code",
   "execution_count": 17,
   "metadata": {},
   "outputs": [
    {
     "name": "stdout",
     "output_type": "stream",
     "text": [
      "906609\n"
     ]
    }
   ],
   "source": [
    "# problem 3 :\n",
    "def compute():\n",
    "\tans = max(i * j\n",
    "\t\tfor i in range(100, 1000)\n",
    "\t\tfor j in range(100, 1000)\n",
    "\t\tif str(i * j) == str(i * j)[ : : -1])\n",
    "\treturn str(ans)\n",
    "\n",
    "\n",
    "if __name__ == \"__main__\":\n",
    "\tprint(compute())"
   ]
  },
  {
   "cell_type": "code",
   "execution_count": null,
   "metadata": {},
   "outputs": [],
   "source": []
  }
 ],
 "metadata": {
  "kernelspec": {
   "display_name": "Python 3",
   "language": "python",
   "name": "python3"
  },
  "language_info": {
   "codemirror_mode": {
    "name": "ipython",
    "version": 3
   },
   "file_extension": ".py",
   "mimetype": "text/x-python",
   "name": "python",
   "nbconvert_exporter": "python",
   "pygments_lexer": "ipython3",
   "version": "3.7.3"
  }
 },
 "nbformat": 4,
 "nbformat_minor": 2
}
