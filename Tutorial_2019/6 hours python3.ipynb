{
 "cells": [
  {
   "cell_type": "code",
   "execution_count": 2,
   "metadata": {},
   "outputs": [
    {
     "name": "stdout",
     "output_type": "stream",
     "text": [
      "weight: 120\n",
      "(L)bs or (K)g: l\n",
      " you are 54.0 kilos.\n"
     ]
    }
   ],
   "source": [
    "weight = int(input('weight: '))\n",
    "unit = input('(L)bs or (K)g: ')\n",
    "if unit.upper() == 'L':\n",
    "    converted = weight*0.45\n",
    "    print(f\" you are {converted} kilos.\")\n",
    "else:\n",
    "    converted = weight/0.45\n",
    "    print(f\" you are {converted} pounds.\")"
   ]
  },
  {
   "cell_type": "code",
   "execution_count": 3,
   "metadata": {},
   "outputs": [
    {
     "name": "stdout",
     "output_type": "stream",
     "text": [
      "1\n",
      "2\n",
      "3\n",
      "4\n",
      "5\n",
      "Well Done!\n"
     ]
    }
   ],
   "source": [
    "i = 1\n",
    "while i <=5 :\n",
    "    print(i)\n",
    "    i +=1\n",
    "print(\"Well Done!\")"
   ]
  },
  {
   "cell_type": "code",
   "execution_count": null,
   "metadata": {},
   "outputs": [],
   "source": [
    "i = 1\n",
    "while i >= -5 :\n",
    "    print('*'*i)\n",
    "    i -=1"
   ]
  },
  {
   "cell_type": "code",
   "execution_count": 8,
   "metadata": {},
   "outputs": [
    {
     "name": "stdout",
     "output_type": "stream",
     "text": [
      "Guess: 1\n",
      "Guess: 1\n",
      "Guess: 2\n",
      "Sorry\n"
     ]
    }
   ],
   "source": [
    "# Guessing Game :\n",
    "secret_number = 4\n",
    "guess_count = 0\n",
    "guess_limit = 3\n",
    "while guess_count < guess_limit:\n",
    "    guess = int(input(\"Guess: \"))\n",
    "    guess_count += 1\n",
    "    if guess == secret_number:\n",
    "        print(\" You win!!\")\n",
    "        break\n",
    "else:\n",
    "    print(\"Sorry\")"
   ]
  },
  {
   "cell_type": "code",
   "execution_count": 12,
   "metadata": {},
   "outputs": [
    {
     "name": "stdout",
     "output_type": "stream",
     "text": [
      ">>help\n",
      "\n",
      "            start - to start the car \n",
      "            stop  - to stop the car\n",
      "            quit  - to quit\n",
      "        \n",
      "        \n",
      ">>quit\n"
     ]
    }
   ],
   "source": [
    "command = \"\"\n",
    "while command != \"quit\":\n",
    "    command = input(\">>\").lower()\n",
    "    if command == \"start\":\n",
    "        print(\"car start\")\n",
    "    elif command== \"stop\":\n",
    "        print(\"car stop\")\n",
    "    elif command == \"help\":\n",
    "        print(\"\"\"\n",
    "            start - to start the car \n",
    "            stop  - to stop the car\n",
    "            quit  - to quit\n",
    "        \n",
    "        \"\"\")\n",
    "    elif command == \"quit\":\n",
    "        break\n",
    "    \n",
    "    else:\n",
    "        print(\"I don't understand!!!\")\n",
    "    "
   ]
  },
  {
   "cell_type": "code",
   "execution_count": 2,
   "metadata": {
    "scrolled": true
   },
   "outputs": [
    {
     "name": "stdout",
     "output_type": "stream",
     "text": [
      "koo\n",
      "kiii\n",
      "kaaa\n"
     ]
    }
   ],
   "source": [
    "# For Loop:\n",
    "for item in [\"koo\", \"kiii\", \"kaaa\"]:\n",
    "    print(item)\n",
    "          "
   ]
  },
  {
   "cell_type": "code",
   "execution_count": 19,
   "metadata": {
    "scrolled": true
   },
   "outputs": [
    {
     "name": "stdout",
     "output_type": "stream",
     "text": [
      "Total 10\n",
      "Total 30\n",
      "Total 60\n"
     ]
    }
   ],
   "source": [
    "prices = [10, 20, 30]\n",
    "total = 0\n",
    "for price in prices:\n",
    "    total += price \n",
    "    print(f\"Total {total}\")"
   ]
  },
  {
   "cell_type": "code",
   "execution_count": 20,
   "metadata": {},
   "outputs": [
    {
     "name": "stdout",
     "output_type": "stream",
     "text": [
      "0\n",
      "1\n",
      "2\n",
      "3\n",
      "4\n",
      "5\n",
      "6\n",
      "7\n",
      "8\n",
      "9\n"
     ]
    }
   ],
   "source": [
    "for x in range(10):\n",
    "    print(x)"
   ]
  },
  {
   "cell_type": "code",
   "execution_count": 21,
   "metadata": {},
   "outputs": [
    {
     "name": "stdout",
     "output_type": "stream",
     "text": [
      "(0,0)\n",
      "(0,1)\n",
      "(1,0)\n",
      "(1,1)\n",
      "(2,0)\n",
      "(2,1)\n",
      "(3,0)\n",
      "(3,1)\n",
      "(4,0)\n",
      "(4,1)\n"
     ]
    }
   ],
   "source": [
    "for x in range(5):\n",
    "    for y in range(2):\n",
    "        print(f\"({x},{y})\")"
   ]
  },
  {
   "cell_type": "code",
   "execution_count": 60,
   "metadata": {},
   "outputs": [
    {
     "name": "stdout",
     "output_type": "stream",
     "text": [
      "xxxxx\n",
      "xx\n",
      "xxxxx\n",
      "xx\n",
      "xx\n"
     ]
    }
   ],
   "source": [
    "numbers = [5, 2, 5, 2, 2]\n",
    "for x_count in numbers:\n",
    "    output = ''\n",
    "    for count in range(x_count):\n",
    "        output += 'x'\n",
    "    print(output)"
   ]
  },
  {
   "cell_type": "code",
   "execution_count": 45,
   "metadata": {},
   "outputs": [
    {
     "name": "stdout",
     "output_type": "stream",
     "text": [
      "['ice', 'noof', 'tula']\n"
     ]
    }
   ],
   "source": [
    "names = ['prem', 'god', 'ice', 'noof', 'tula'] # prem[0],god[1],ice[2],noof[3],tula[4]\n",
    "print(names[2:])"
   ]
  },
  {
   "cell_type": "code",
   "execution_count": 44,
   "metadata": {},
   "outputs": [
    {
     "name": "stdout",
     "output_type": "stream",
     "text": [
      "['ice', 'noof']\n"
     ]
    }
   ],
   "source": [
    "print(names[2:4])"
   ]
  },
  {
   "cell_type": "code",
   "execution_count": 47,
   "metadata": {},
   "outputs": [
    {
     "name": "stdout",
     "output_type": "stream",
     "text": [
      "['prem', 'god', 'ice', 'noof', 'kai_ooo']\n"
     ]
    }
   ],
   "source": [
    "names[4]= 'kai_ooo'\n",
    "print(names)"
   ]
  },
  {
   "cell_type": "code",
   "execution_count": 56,
   "metadata": {},
   "outputs": [
    {
     "name": "stdout",
     "output_type": "stream",
     "text": [
      "99999999\n"
     ]
    }
   ],
   "source": [
    "# write a program to find largest number in list\n",
    "number2 = [1, 10, 100, 1000, 10000, 200, 99999999]\n",
    "max = number2[0]\n",
    "for number in number2:\n",
    "    if number > max:\n",
    "        max = number\n",
    "print(max)"
   ]
  },
  {
   "cell_type": "code",
   "execution_count": 57,
   "metadata": {},
   "outputs": [
    {
     "name": "stdout",
     "output_type": "stream",
     "text": [
      "[2, 22, 3, 4, 5, 6]\n"
     ]
    }
   ],
   "source": [
    "# list:\n",
    "number3 = [2, 3, 4, 5, 6]\n",
    "number3.insert(1, 22)\n",
    "print(number3)\n"
   ]
  },
  {
   "cell_type": "code",
   "execution_count": 58,
   "metadata": {},
   "outputs": [
    {
     "name": "stdout",
     "output_type": "stream",
     "text": [
      "[2, 22, 3, 4, 5, 6, 7]\n"
     ]
    }
   ],
   "source": [
    "number3.append(7)\n",
    "print(number3)"
   ]
  },
  {
   "cell_type": "code",
   "execution_count": 59,
   "metadata": {},
   "outputs": [
    {
     "name": "stdout",
     "output_type": "stream",
     "text": [
      "17\n"
     ]
    }
   ],
   "source": [
    "primes = {1: 2, 2: 3, 4: 7, 7:17}\n",
    "print(primes[primes[4]])"
   ]
  },
  {
   "cell_type": "code",
   "execution_count": 61,
   "metadata": {},
   "outputs": [
    {
     "name": "stdout",
     "output_type": "stream",
     "text": [
      "Input a number to print sequence up to: 5\n",
      "[1, 2, 3, 5]\n"
     ]
    }
   ],
   "source": [
    "def fibonacci(n):\n",
    "    n = int(n)\n",
    "\n",
    "    def fibon(a,b,n,result):\n",
    "        c = a+b\n",
    "        result.append(c)\n",
    "        if c < n:\n",
    "            fibon(b,c,n,result)\n",
    "        return result\n",
    "\n",
    "    return fibon(0,1,n,[])\n",
    "\n",
    "print(fibonacci(input(\"Input a number to print sequence up to: \")))"
   ]
  },
  {
   "cell_type": "code",
   "execution_count": null,
   "metadata": {},
   "outputs": [],
   "source": []
  }
 ],
 "metadata": {
  "kernelspec": {
   "display_name": "Python 3",
   "language": "python",
   "name": "python3"
  },
  "language_info": {
   "codemirror_mode": {
    "name": "ipython",
    "version": 3
   },
   "file_extension": ".py",
   "mimetype": "text/x-python",
   "name": "python",
   "nbconvert_exporter": "python",
   "pygments_lexer": "ipython3",
   "version": "3.7.3"
  }
 },
 "nbformat": 4,
 "nbformat_minor": 2
}
