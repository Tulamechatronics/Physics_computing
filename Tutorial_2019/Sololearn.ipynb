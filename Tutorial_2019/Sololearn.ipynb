{
 "cells": [
  {
   "cell_type": "code",
   "execution_count": 2,
   "metadata": {},
   "outputs": [
    {
     "name": "stdout",
     "output_type": "stream",
     "text": [
      "1\n",
      "2\n",
      "3\n",
      "4\n",
      "5\n",
      "6\n"
     ]
    }
   ],
   "source": [
    "# While Loop :\n",
    "i = 1 \n",
    "while i <= 6:\n",
    "    print(i)\n",
    "    i += 1"
   ]
  },
  {
   "cell_type": "code",
   "execution_count": 3,
   "metadata": {},
   "outputs": [
    {
     "name": "stdout",
     "output_type": "stream",
     "text": [
      "5\n",
      "4\n",
      "3\n"
     ]
    }
   ],
   "source": [
    "i = 5\n",
    "while True:\n",
    "  print(i)\n",
    "  i = i - 1\n",
    "  if i <= 2:\n",
    "    break"
   ]
  },
  {
   "cell_type": "code",
   "execution_count": 4,
   "metadata": {},
   "outputs": [
    {
     "name": "stdout",
     "output_type": "stream",
     "text": [
      "1\n",
      "Skipping 2\n",
      "3\n",
      "4\n",
      "Breaking\n",
      "Finished\n"
     ]
    }
   ],
   "source": [
    "i = 0\n",
    "while True:\n",
    "   i = i +1\n",
    "   if i == 2:\n",
    "      print(\"Skipping 2\")\n",
    "      continue\n",
    "   if i == 5:\n",
    "      print(\"Breaking\")\n",
    "      break\n",
    "   print(i)\n",
    "\n",
    "print(\"Finished\")"
   ]
  },
  {
   "cell_type": "code",
   "execution_count": 5,
   "metadata": {},
   "outputs": [
    {
     "name": "stdout",
     "output_type": "stream",
     "text": [
      "True\n",
      "True\n",
      "False\n"
     ]
    }
   ],
   "source": [
    "# list operation : \n",
    "words = [\"spam\", \"egg\", \"spam\", \"sausage\"]\n",
    "print(\"spam\" in words)\n",
    "print(\"egg\" in words)\n",
    "print(\"tomato\" in words)"
   ]
  },
  {
   "cell_type": "code",
   "execution_count": 7,
   "metadata": {},
   "outputs": [
    {
     "name": "stdout",
     "output_type": "stream",
     "text": [
      "8\n"
     ]
    }
   ],
   "source": [
    "nums = [1, 3, 5, 2, 4, 6, 7, 8]\n",
    "print(len(nums))"
   ]
  },
  {
   "cell_type": "code",
   "execution_count": 9,
   "metadata": {},
   "outputs": [
    {
     "name": "stdout",
     "output_type": "stream",
     "text": [
      "['is', 'Python', 'fun']\n"
     ]
    }
   ],
   "source": [
    "words = [\"Python\", \"fun\"]\n",
    "index = 0\n",
    "words.insert(index, \"is\")\n",
    "print(words)"
   ]
  },
  {
   "cell_type": "code",
   "execution_count": 10,
   "metadata": {},
   "outputs": [
    {
     "name": "stdout",
     "output_type": "stream",
     "text": [
      "7\n"
     ]
    }
   ],
   "source": [
    "# i made mistake here :\n",
    "nums = [9, 8, 7, 6, 5]\n",
    "nums.append(4)\n",
    "nums.insert(2, 11)\n",
    "print(len(nums))\n",
    "# Ans : 9 8 7 6 5 4 \n",
    "# After insert 11 in position 2 then it increases one more items : 9 8 11* 7 6 5 4"
   ]
  },
  {
   "cell_type": "code",
   "execution_count": 12,
   "metadata": {},
   "outputs": [
    {
     "name": "stdout",
     "output_type": "stream",
     "text": [
      "4\n"
     ]
    }
   ],
   "source": [
    "nums = list(range(5))\n",
    "print(nums[4])"
   ]
  },
  {
   "cell_type": "code",
   "execution_count": 13,
   "metadata": {},
   "outputs": [
    {
     "name": "stdout",
     "output_type": "stream",
     "text": [
      "hello!\n",
      "world!\n",
      "spam!\n",
      "eggs!\n"
     ]
    }
   ],
   "source": [
    "# For loop :\n",
    "words = [\"hello\", \"world\", \"spam\", \"eggs\"]\n",
    "counter = 0\n",
    "max_index = len(words) - 1\n",
    "\n",
    "while counter <= max_index:\n",
    "   word = words[counter]\n",
    "   print(word + \"!\")\n",
    "   counter = counter + 1 "
   ]
  },
  {
   "cell_type": "code",
   "execution_count": 1,
   "metadata": {},
   "outputs": [],
   "source": [
    "class Cat:\n",
    "  def __init__(self, color, legs):\n",
    "    self.color = color\n",
    "    self.legs = legs\n",
    "\n",
    "felix = Cat(\"ginger\", 4)\n",
    "rover = Cat(\"dog-colored\", 4)\n",
    "stumpy = Cat(\"brown\", 3)"
   ]
  },
  {
   "cell_type": "code",
   "execution_count": 2,
   "metadata": {},
   "outputs": [
    {
     "name": "stdout",
     "output_type": "stream",
     "text": [
      "Current date and time : \n",
      "2019-06-12 15:06:29\n"
     ]
    }
   ],
   "source": [
    "import datetime\n",
    "now = datetime.datetime.now()\n",
    "print (\"Current date and time : \")\n",
    "print (now.strftime(\"%Y-%m-%d %H:%M:%S\"))"
   ]
  },
  {
   "cell_type": "code",
   "execution_count": null,
   "metadata": {},
   "outputs": [],
   "source": []
  }
 ],
 "metadata": {
  "kernelspec": {
   "display_name": "Python 3",
   "language": "python",
   "name": "python3"
  },
  "language_info": {
   "codemirror_mode": {
    "name": "ipython",
    "version": 3
   },
   "file_extension": ".py",
   "mimetype": "text/x-python",
   "name": "python",
   "nbconvert_exporter": "python",
   "pygments_lexer": "ipython3",
   "version": "3.7.3"
  }
 },
 "nbformat": 4,
 "nbformat_minor": 2
}
