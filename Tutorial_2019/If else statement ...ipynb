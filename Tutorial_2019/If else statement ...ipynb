{
 "cells": [
  {
   "cell_type": "code",
   "execution_count": 8,
   "metadata": {},
   "outputs": [
    {
     "name": "stdout",
     "output_type": "stream",
     "text": [
      "a is greater than b\n"
     ]
    }
   ],
   "source": [
    "a = 30\n",
    "b = 29\n",
    "if a < b:\n",
    "    print(\"a is less than b\")\n",
    "elif a == b:\n",
    "    print(\"a is equal to b\")\n",
    "elif a > b + 10:\n",
    "    print(\" a is more than b 10 \")\n",
    "else:\n",
    "    print(\"a is greater than b\")\n"
   ]
  },
  {
   "cell_type": "code",
   "execution_count": 15,
   "metadata": {},
   "outputs": [
    {
     "name": "stdout",
     "output_type": "stream",
     "text": [
      "BMI Calculator\n",
      "name: oudom\n",
      "weight: 75\n",
      "height: 1.70\n",
      "25.95155709342561\n",
      "you are overweight\n"
     ]
    }
   ],
   "source": [
    "print(\"BMI Calculator\")\n",
    "name = input('name: ')\n",
    "weight_kg = input('weight: ')\n",
    "height_m = input('height: ')\n",
    "BMI = int(weight_kg)/(float(height_m)*float(height_m))\n",
    "if BMI < 25:\n",
    "    print(BMI)\n",
    "    print('you are ok')\n",
    "else:\n",
    "    print(BMI)\n",
    "    print('you are overweight')\n"
   ]
  },
  {
   "cell_type": "code",
   "execution_count": null,
   "metadata": {},
   "outputs": [],
   "source": []
  }
 ],
 "metadata": {
  "kernelspec": {
   "display_name": "Python 3",
   "language": "python",
   "name": "python3"
  },
  "language_info": {
   "codemirror_mode": {
    "name": "ipython",
    "version": 3
   },
   "file_extension": ".py",
   "mimetype": "text/x-python",
   "name": "python",
   "nbconvert_exporter": "python",
   "pygments_lexer": "ipython3",
   "version": "3.7.3"
  }
 },
 "nbformat": 4,
 "nbformat_minor": 2
}
