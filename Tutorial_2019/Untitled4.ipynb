{
 "cells": [
  {
   "cell_type": "code",
   "execution_count": 1,
   "metadata": {},
   "outputs": [
    {
     "ename": "ModuleNotFoundError",
     "evalue": "No module named 'Tkinter'",
     "output_type": "error",
     "traceback": [
      "\u001b[1;31m---------------------------------------------------------------------------\u001b[0m",
      "\u001b[1;31mModuleNotFoundError\u001b[0m                       Traceback (most recent call last)",
      "\u001b[1;32m<ipython-input-1-c71eba85eb53>\u001b[0m in \u001b[0;36m<module>\u001b[1;34m\u001b[0m\n\u001b[1;32m----> 1\u001b[1;33m \u001b[1;32mimport\u001b[0m \u001b[0mTkinter\u001b[0m\u001b[1;33m\u001b[0m\u001b[1;33m\u001b[0m\u001b[0m\n\u001b[0m\u001b[0;32m      2\u001b[0m \u001b[1;32mfrom\u001b[0m \u001b[0mTkinter\u001b[0m \u001b[1;32mimport\u001b[0m \u001b[1;33m*\u001b[0m\u001b[1;33m\u001b[0m\u001b[1;33m\u001b[0m\u001b[0m\n\u001b[0;32m      3\u001b[0m \u001b[1;32mimport\u001b[0m \u001b[0mserial\u001b[0m\u001b[1;33m\u001b[0m\u001b[1;33m\u001b[0m\u001b[0m\n\u001b[0;32m      4\u001b[0m \u001b[1;32mfrom\u001b[0m \u001b[0mtime\u001b[0m \u001b[1;32mimport\u001b[0m \u001b[0msleep\u001b[0m\u001b[1;33m\u001b[0m\u001b[1;33m\u001b[0m\u001b[0m\n\u001b[0;32m      5\u001b[0m \u001b[1;33m\u001b[0m\u001b[0m\n",
      "\u001b[1;31mModuleNotFoundError\u001b[0m: No module named 'Tkinter'"
     ]
    }
   ],
   "source": [
    "import Tkinter\n",
    "from Tkinter import *\n",
    "import serial\n",
    "from time import sleep\n",
    "\n",
    "# Enter your COM port in the below line\n",
    "ard = serial.Serial('com8', 9600)\n",
    "sleep(2)\n",
    "print (ard.readline(ard.inWaiting()))\n",
    "\n",
    "top = Tkinter.Tk()\n",
    "\n",
    "def TrunOn():\n",
    "  ard.write('1')\n",
    "  sleep(0.1)\n",
    "  data = ard.readline(ard.inWaiting())\n",
    "  label1.config(text=str(data))\n",
    "  \n",
    "def Turnoff():\n",
    "  ard.write('0')\n",
    "  sleep(0.1)\n",
    "  data = ard.readline(ard.inWaiting())\n",
    "  label1.config(text=str(data))\n",
    "\n",
    "OnButton = Tkinter.Button(top, text =\"LED ON\", command = TrunOn)\n",
    "OffButton = Tkinter.Button(top, text =\"LED OFF\", command = Turnoff)\n",
    "label1 = Label(top, fg=\"green\")\n",
    "\n",
    "label1.pack()\n",
    "OnButton.pack()\n",
    "OffButton.pack()\n",
    "top.mainloop()"
   ]
  },
  {
   "cell_type": "code",
   "execution_count": null,
   "metadata": {},
   "outputs": [],
   "source": []
  }
 ],
 "metadata": {
  "kernelspec": {
   "display_name": "Python 3",
   "language": "python",
   "name": "python3"
  },
  "language_info": {
   "codemirror_mode": {
    "name": "ipython",
    "version": 3
   },
   "file_extension": ".py",
   "mimetype": "text/x-python",
   "name": "python",
   "nbconvert_exporter": "python",
   "pygments_lexer": "ipython3",
   "version": "3.7.3"
  }
 },
 "nbformat": 4,
 "nbformat_minor": 2
}
