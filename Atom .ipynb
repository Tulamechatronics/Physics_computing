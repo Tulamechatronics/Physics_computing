{
 "cells": [
  {
   "cell_type": "code",
   "execution_count": null,
   "metadata": {},
   "outputs": [
    {
     "data": {
      "text/html": [
       "<div id=\"glowscript\" class=\"glowscript\"></div>"
      ],
      "text/plain": [
       "<IPython.core.display.HTML object>"
      ]
     },
     "metadata": {},
     "output_type": "display_data"
    },
    {
     "data": {
      "application/javascript": [
       "if (typeof Jupyter !== \"undefined\") { window.__context = { glowscript_container: $(\"#glowscript\").removeAttr(\"id\")};}else{ element.textContent = ' ';}"
      ],
      "text/plain": [
       "<IPython.core.display.Javascript object>"
      ]
     },
     "metadata": {},
     "output_type": "display_data"
    },
    {
     "data": {
      "text/html": [
       "<div id=\"glowscript\" class=\"glowscript\"></div>"
      ],
      "text/plain": [
       "<IPython.core.display.HTML object>"
      ]
     },
     "metadata": {},
     "output_type": "display_data"
    },
    {
     "data": {
      "application/javascript": [
       "if (typeof Jupyter !== \"undefined\") { window.__context = { glowscript_container: $(\"#glowscript\").removeAttr(\"id\")};}else{ element.textContent = ' ';}"
      ],
      "text/plain": [
       "<IPython.core.display.Javascript object>"
      ]
     },
     "metadata": {},
     "output_type": "display_data"
    },
    {
     "name": "stdout",
     "output_type": "stream",
     "text": [
      "Radius of First Orbit =  5.29177e-11\n",
      "Velocity of Electron in First Orbit =  2187691.634028144\n"
     ]
    },
    {
     "data": {
      "application/javascript": [
       "if (typeof Jupyter !== \"undefined\") {require.undef(\"nbextensions/vpython_libraries/glow.min\");}else{element.textContent = ' ';}"
      ],
      "text/plain": [
       "<IPython.core.display.Javascript object>"
      ]
     },
     "metadata": {},
     "output_type": "display_data"
    },
    {
     "data": {
      "application/javascript": [
       "if (typeof Jupyter !== \"undefined\") {require.undef(\"nbextensions/vpython_libraries/glowcomm\");}else{element.textContent = ' ';}"
      ],
      "text/plain": [
       "<IPython.core.display.Javascript object>"
      ]
     },
     "metadata": {},
     "output_type": "display_data"
    },
    {
     "data": {
      "application/javascript": [
       "if (typeof Jupyter !== \"undefined\") {require.undef(\"nbextensions/vpython_libraries/jquery-ui.custom.min\");}else{element.textContent = ' ';}"
      ],
      "text/plain": [
       "<IPython.core.display.Javascript object>"
      ]
     },
     "metadata": {},
     "output_type": "display_data"
    },
    {
     "data": {
      "application/javascript": [
       "if (typeof Jupyter !== \"undefined\") {require([\"nbextensions/vpython_libraries/glow.min\"], function(){console.log(\"GLOW LOADED\");});}else{element.textContent = ' ';}"
      ],
      "text/plain": [
       "<IPython.core.display.Javascript object>"
      ]
     },
     "metadata": {},
     "output_type": "display_data"
    },
    {
     "data": {
      "application/javascript": [
       "if (typeof Jupyter !== \"undefined\") {require([\"nbextensions/vpython_libraries/glowcomm\"], function(){console.log(\"GLOWCOMM LOADED\");});}else{element.textContent = ' ';}"
      ],
      "text/plain": [
       "<IPython.core.display.Javascript object>"
      ]
     },
     "metadata": {},
     "output_type": "display_data"
    },
    {
     "data": {
      "application/javascript": [
       "if (typeof Jupyter !== \"undefined\") {require([\"nbextensions/vpython_libraries/jquery-ui.custom.min\"], function(){console.log(\"JQUERY LOADED\");});}else{element.textContent = ' ';}"
      ],
      "text/plain": [
       "<IPython.core.display.Javascript object>"
      ]
     },
     "metadata": {},
     "output_type": "display_data"
    },
    {
     "name": "stdout",
     "output_type": "stream",
     "text": [
      "Time Period in First Orbit=  1.519828983015893e-16\n"
     ]
    }
   ],
   "source": [
    "# This program simulate motion of electron around the nucleus of an atom using \n",
    "# Classical Physics and Coulomb's Law. The nucleus is assumed to be stationary. \n",
    "# source: www.techforcurious.website\n",
    "\n",
    "from vpython import*\n",
    "\n",
    "# Defining Display\n",
    "\n",
    "scene2 = canvas(width=500,height=500,background = vector(1,1,1))\n",
    "\n",
    "# Defining Constants\n",
    "\n",
    "pi = 2*asin(1.0) # Defining value of pi using sin(pi/2) = 1\n",
    "a0 = 0.529177e-10 # Radius of first orbit\n",
    "m_p = 1.6726219e-27 # Mass of Proton\n",
    "m_e = 9.10938356e-31 # Mass of Electron\n",
    "e = 1.6021765e-19 # Charge of Electron\n",
    "epsilon = 8.854187e-12 # Permittivity of free space\n",
    "v_e = e/sqrt(4*pi*epsilon*a0*m_e) # Using Classical Physics: mv^2/r = e^2/(4*pi*epsilon*r^2)\n",
    "print(\"Radius of First Orbit = \",a0)\n",
    "print(\"Velocity of Electron in First Orbit = \", v_e)\n",
    "\n",
    "#Defining 3D Objects\n",
    "\n",
    "nucleus = sphere(pos = vector(0,0,0), radius = 0.1*a0, velocity = vector(0,0,0), mass = m_p, charge = e, color = color.blue)\n",
    "electron = sphere(pos = vector(a0,0,0), radius = 0.02*a0, velocity = vector(0,v_e,0), mass = m_e, charge = -e, color = color.black)\n",
    "electron.trail=curve(color=electron.color)\n",
    "\n",
    "#Defining function for Calculating Acceleration\n",
    "\n",
    "def acc():\n",
    "  dr = electron.pos - nucleus.pos\n",
    "  Force = 1./(4.*pi*epsilon)*nucleus.charge*electron.charge/(mag(dr)**2) * norm(dr)\n",
    "  m1 = electron.mass\n",
    "  return Force/m1\n",
    "\n",
    "#Defining Order of Time and Time step\n",
    "\n",
    "t = 0\n",
    "T_orbit = 2.*pi*a0/v_e\n",
    "t_end = 1000*T_orbit\n",
    "dt = T_orbit/1000.\n",
    "print(\"Time Period in First Orbit= \",T_orbit)\n",
    "\n",
    "#Updating Position of Electron in loop\n",
    "\n",
    "while (t<t_end):\n",
    "  rate(100)\n",
    "  electron.velocity = electron.velocity + acc()*dt\n",
    "  electron.pos = electron.pos + electron.velocity*dt\n",
    "  electron.trail.append(pos = electron.pos)\n",
    "  t = t+dt"
   ]
  },
  {
   "cell_type": "code",
   "execution_count": null,
   "metadata": {},
   "outputs": [],
   "source": []
  }
 ],
 "metadata": {
  "kernelspec": {
   "display_name": "VPython",
   "language": "python",
   "name": "vpython"
  },
  "language_info": {
   "codemirror_mode": {
    "name": "ipython",
    "version": 3
   },
   "file_extension": ".py",
   "mimetype": "text/x-python",
   "name": "python",
   "nbconvert_exporter": "python",
   "pygments_lexer": "ipython3",
   "version": "3.7.3"
  }
 },
 "nbformat": 4,
 "nbformat_minor": 2
}
