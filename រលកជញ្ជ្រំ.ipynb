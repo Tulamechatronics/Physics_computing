{
 "cells": [
  {
   "cell_type": "code",
   "execution_count": 6,
   "metadata": {},
   "outputs": [
    {
     "data": {
      "image/png": "[encoded data removed]",
      "text/plain": [
       "<Figure size 432x288 with 1 Axes>"
      ]
     },
     "metadata": {
      "needs_background": "light"
     },
     "output_type": "display_data"
    }
   ],
   "source": [
    "'''\n",
    "This program shows an example of how to make an\n",
    "animation of a wave in python. In order to save the\n",
    "animation some extra encoding packages are needed.\n",
    "These depend on the operating system.\n",
    "\n",
    "The scritp was in 2017 translated by Sebastian G. Winther-Larsen from a matlab script originally written by Arnt Inge Vistnes\n",
    "'''\n",
    "\n",
    "import numpy as np\n",
    "from matplotlib import pyplot as plt\n",
    "from matplotlib import animation\n",
    "\n",
    "k = 3\n",
    "omega = 8\n",
    "N = 1000\n",
    "\n",
    "# Set up figure\n",
    "fig = plt.figure()\n",
    "ax = plt.axes(xlim=(0, 20), ylim=(-2.5, 2.5))\n",
    "line, = ax.plot([], [], linewidth = 2)\n",
    "\n",
    "# Initialisation function\n",
    "def init():\n",
    "    line.set_data([], [])\n",
    "    return line,\n",
    "\n",
    "# Animation function, called sequentially\n",
    "def animate(i):\n",
    "    t = 0.01*i\n",
    "    x = np.linspace(0, 20, N)\n",
    "    y = 2.0 * np.sin(k*x - omega*t)\n",
    "    line.set_data(x, y)\n",
    "    return line,\n",
    "\n",
    "# Call animator. blit=True means only re-draw changed parts\n",
    "anim = animation.FuncAnimation(fig, animate, init_func=init, frames=200,\\\n",
    "                                interval=20, blit=True)\n",
    "\n",
    "# Save animation\n",
    "#anim.save(\"wave_animation.mp4\", fps=30)\n",
    "\n",
    "plt.show()"
   ]
  },
  {
   "cell_type": "code",
   "execution_count": null,
   "metadata": {},
   "outputs": [],
   "source": []
  }
 ],
 "metadata": {
  "kernelspec": {
   "display_name": "Python 3",
   "language": "python",
   "name": "python3"
  },
  "language_info": {
   "codemirror_mode": {
    "name": "ipython",
    "version": 3
   },
   "file_extension": ".py",
   "mimetype": "text/x-python",
   "name": "python",
   "nbconvert_exporter": "python",
   "pygments_lexer": "ipython3",
   "version": "3.7.3"
  }
 },
 "nbformat": 4,
 "nbformat_minor": 2
}
